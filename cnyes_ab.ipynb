{
 "cells": [
  {
   "cell_type": "code",
   "execution_count": null,
   "metadata": {
    "collapsed": true
   },
   "outputs": [],
   "source": [
    "from flask import Flask,redirect,jsonify,render_template\n",
    "from flask.ext.cors import CORS\n",
    "app = Flask(__name__)\n",
    "CORS(app)\n",
    "\n",
    "# @app.route(\"/\")\n",
    "# def main():\n",
    "# #     return render_template('index.html')\n",
    "#     return \"<a href='./news/111'>go</a>\"\n",
    "    \n",
    "# @app.route(\"/news/\")\n",
    "# @app.route(\"/news/<id>\")\n",
    "# def news(id=None):\n",
    "#     print(id)\n",
    "#     if id is None:\n",
    "# #         return \"<a href='./news'>go</a>\"\n",
    "#         return redirect(\"/\")\n",
    "#     return \"Hello\"+id\n",
    "\n",
    "@app.route(\"/api/count\")\n",
    "def count():\n",
    "    cur.execute('SELECT date,count(timestamp) FROM cnynes GROUP BY date ORDER BY date DESC')\n",
    "    data = []\n",
    "    for x in cur.fetchall():\n",
    "        temp = {}\n",
    "        temp[\"date\"] = x[0]\n",
    "        temp[\"count\"] = x[1]\n",
    "        cur.execute('SELECT pic FROM cnynes WHERE pic is not null and date == \"'+temp[\"date\"]+'\" LIMIT 1')\n",
    "        pic = cur.fetchone()\n",
    "        if pic is not None:\n",
    "            temp[\"pic\"] = pic[0]\n",
    "        else:\n",
    "            temp[\"pic\"] = None\n",
    "        \n",
    "        data.append(temp)\n",
    "    return jsonify(data)\n",
    "\n",
    "@app.route(\"/api/date/<date>\")\n",
    "def read(date):\n",
    "    print(date)\n",
    "    cur.execute('SELECT *FROM cnynes WHERE date=\"'+date+'\" ORDER BY timestamp DESC')\n",
    "    data = []\n",
    "    for x in cur.fetchall():\n",
    "        print(x)\n",
    "        temp = {}\n",
    "#         temp[\"id\"] = x[0]\n",
    "#         temp[\"nid\"] = x[1]\n",
    "        temp[\"date\"] = x[2]\n",
    "        temp[\"timestamp\"] = x[3]\n",
    "        temp[\"url\"] = x[4]\n",
    "        temp[\"title\"] = x[5]\n",
    "        temp[\"content\"] = x[6]\n",
    "        temp[\"keyword\"] = x[7]\n",
    "#         temp[\"pic\"] = x[8]\n",
    "        \n",
    "        data.append(temp)\n",
    "    return jsonify(data)\n",
    "\n",
    "\n",
    "if __name__ == \"__main__\":\n",
    "    app.run(host='0.0.0.0')"
   ]
  },
  {
   "cell_type": "code",
   "execution_count": null,
   "metadata": {},
   "outputs": [],
   "source": [
    "if __name__ == \"__main__\":\n",
    "    app.run(host='0.0.0.0')"
   ]
  },
  {
   "cell_type": "markdown",
   "metadata": {},
   "source": [
    "## 連接和新建資料庫"
   ]
  },
  {
   "cell_type": "code",
   "execution_count": null,
   "metadata": {},
   "outputs": [],
   "source": [
    "import sqlite3\n",
    "\n",
    "def create_table(conn, create_table_sql):\n",
    "    global cur\n",
    "    \"\"\" create a table from the create_table_sql statement\n",
    "    :param conn: Connection object\n",
    "    :param create_table_sql: a CREATE TABLE statement\n",
    "    :return:\n",
    "    \"\"\"\n",
    "    try:\n",
    "        cur = conn.cursor()\n",
    "        cur.execute(create_table_sql)\n",
    "    except sqlite3.Error as e:\n",
    "        print(e)\n",
    "        \n",
    "def create_connection(db_file):\n",
    "    \"\"\" create a database connection to the SQLite database\n",
    "        specified by db_file\n",
    "    :param db_file: database file\n",
    "    :return: Connection object or None\n",
    "    \"\"\"\n",
    "    try:\n",
    "        conn = sqlite3.connect(db_file)\n",
    "        return conn\n",
    "    except sqlite3.Error as e:\n",
    "        print(e)\n",
    " \n",
    "    return None\n",
    "\n",
    "\n",
    "db = \"cnynes.sqlite\"\n",
    "sql_create_projects_table = \"\"\" CREATE TABLE IF NOT EXISTS cnynes (\n",
    "                                        id integer PRIMARY KEY,\n",
    "                                        nid integer NOT NULL,\n",
    "                                        date text,\n",
    "                                        timestamp text,\n",
    "                                        url text,\n",
    "                                        title text,\n",
    "                                        content text,\n",
    "                                        keyword text,\n",
    "                                        pic text\n",
    "                                    ); \"\"\"\n",
    "\n",
    "conn = create_connection(db)\n",
    "if conn is not None:\n",
    "    create_table(conn, sql_create_projects_table)\n",
    "else:\n",
    "    print(\"Error! cannot create the database connection.\")\n",
    "\n",
    "cur.execute('SELECT max(timestamp) FROM cnynes')\n",
    "print(\"DB最後的新聞：\",cur.fetchall()[0][0])\n",
    "\n",
    "cur.execute('SELECT count(timestamp) FROM cnynes')\n",
    "print(\"DB新聞比數：\",cur.fetchall()[0][0])\n",
    "\n",
    "cur.execute('SELECT count(timestamp) FROM cnynes WHERE keyword is null')\n",
    "print(\"DB未萃取比數：\",cur.fetchall()[0][0])\n",
    "\n",
    "cur.execute('SELECT date,count(timestamp) FROM cnynes GROUP BY date ORDER BY date DESC')\n",
    "print(\"每一天比數：\",cur.fetchall())\n",
    "\n",
    "# cur.execute('SELECT * FROM cnynes')\n",
    "# print(cur.fetchall())"
   ]
  },
  {
   "cell_type": "markdown",
   "metadata": {},
   "source": [
    "## 爬未載入db的新聞鏈接和標題"
   ]
  },
  {
   "cell_type": "code",
   "execution_count": null,
   "metadata": {
    "scrolled": true
   },
   "outputs": [],
   "source": [
    "import requests\n",
    "import urllib.request \n",
    "# from pyquery import PyQuery as pq\n",
    "from bs4 import BeautifulSoup\n",
    "import json\n",
    "import datetime\n",
    "\n",
    "base_url = \"https://news.cnyes.com\"\n",
    "url = base_url +\"/api/v3/news/category/tw_quo?startAt=1512086400&endAt=1516406400&limit=30&page=1\"\n",
    "\n",
    "cur.execute('SELECT max(timestamp) FROM cnynes')\n",
    "max_time = cur.fetchall()[0][0]\n",
    "if max_time is None:\n",
    "    max_time = 0\n",
    "else:\n",
    "    max_time = int(max_time)\n",
    "print(max_time)\n",
    "news = []\n",
    "continueToUrl = True\n",
    "while(True):\n",
    "    print(url)\n",
    "    r = requests.get(url)\n",
    "    data = r.json()\n",
    "    for item in data[\"items\"][\"data\"]:\n",
    "        new = {}\n",
    "        new[\"timestamp\"] = item[\"publishAt\"]\n",
    "        new[\"date\"] = datetime.datetime.fromtimestamp(int(item[\"publishAt\"])).strftime('%Y-%m-%d')\n",
    "        new[\"nid\"] = int(item[\"newsId\"])\n",
    "        new[\"url\"] = \"https://news.cnyes.com/news/id/\"+str(item[\"newsId\"])\n",
    "        new[\"title\"] = item[\"title\"]\n",
    "        \n",
    "        if max_time < new[\"timestamp\"]:\n",
    "            print(new)\n",
    "            news.append(new)\n",
    "            colvalue = (new[\"timestamp\"],new[\"date\"],new[\"nid\"],new[\"url\"],new[\"title\"])\n",
    "            cur.execute(\"INSERT INTO cnynes('timestamp','date','nid','url','title') VALUES (?,?,?,?,?)\",colvalue) \n",
    "            conn.commit()\n",
    "            print(cur.fetchall())\n",
    "        else:\n",
    "            continueToUrl = False\n",
    "            break\n",
    "#         break\n",
    "    \n",
    "    if continueToUrl is True:\n",
    "        if data[\"items\"][\"next_page_url\"] is not None:\n",
    "            url = base_url+data[\"items\"][\"next_page_url\"]\n",
    "            print(\"Continue to next page\")\n",
    "#         break\n",
    "    else:\n",
    "        break"
   ]
  },
  {
   "cell_type": "markdown",
   "metadata": {},
   "source": [
    "## 爬未載入db的新聞內容"
   ]
  },
  {
   "cell_type": "code",
   "execution_count": null,
   "metadata": {
    "scrolled": true
   },
   "outputs": [],
   "source": [
    "cur.execute('SELECT id,url FROM cnynes WHERE content is null')\n",
    "for id,url in cur.fetchall():\n",
    "    print(id,url)\n",
    "    r = requests.get(url)\n",
    "    r.encoding = \"utf-8\"\n",
    "    soup = BeautifulSoup(r.content,\"lxml\")\n",
    "    news_text = soup.select(\"div[itemprop:articlebody]\")[1].text\n",
    "    print(news_text)\n",
    "    cur.execute(\"UPDATE cnynes SET content = ? WHERE id = ?\",(news_text,id)) \n",
    "    conn.commit()  \n",
    "    \n",
    "    pic = soup.find(\"article\").find('img')\n",
    "    if pic is None:\n",
    "        pic = None\n",
    "    else:\n",
    "        pic = pic.attrs['src']\n",
    "        print(pic)\n",
    "        cur.execute(\"UPDATE cnynes SET pic = ? WHERE id = ?\",(pic,id)) \n",
    "        conn.commit()   \n",
    "#     break"
   ]
  },
  {
   "cell_type": "markdown",
   "metadata": {},
   "source": [
    "## 萃取未有keyword的資料"
   ]
  },
  {
   "cell_type": "code",
   "execution_count": null,
   "metadata": {},
   "outputs": [],
   "source": [
    "import jieba\n",
    "import jieba.analyse\n",
    "\n",
    "def index_of_keyword(sentences, keyword):\n",
    "    for i, s in enumerate(sentences):\n",
    "        if keyword in s:\n",
    "              return i\n",
    "    return -1\n",
    "\n",
    "cur.execute('SELECT id,content FROM cnynes WHERE keyword is null')\n",
    "for id,content in cur.fetchall():\n",
    "#     print(id,content)\n",
    "    print(id)\n",
    "    \n",
    "    keywords = jieba.analyse.extract_tags(content, topK=3, withWeight=False)\n",
    "    keywords2 = jieba.analyse.textrank(content, topK=3, withWeight=False) \n",
    "    keywords_all = keywords+keywords2\n",
    "\n",
    "    s_index = []\n",
    "    for keyword in keywords_all:\n",
    "        sentences = content.replace(\"\\n\",\"\").split(u\"。\")\n",
    "        s_index.append(index_of_keyword(sentences,keyword))\n",
    "\n",
    "    s_set = set(s_index)\n",
    "    s_index = list(s_set)\n",
    "\n",
    "    summary = \"\"\n",
    "    for i in s_index:\n",
    "        summary += sentences[i]+u\"。\\n\"\n",
    "\n",
    "#     print(\"content\",content)\n",
    "#     print (\"summary\",summary)\n",
    "    \n",
    "    conn.cursor().execute(\"UPDATE cnynes SET keyword = ? WHERE id = ?\",(summary,id)) \n",
    "    conn.commit()        \n",
    "#     break\n",
    "\n"
   ]
  },
  {
   "cell_type": "markdown",
   "metadata": {},
   "source": [
    "## backup"
   ]
  },
  {
   "cell_type": "code",
   "execution_count": null,
   "metadata": {
    "collapsed": true
   },
   "outputs": [],
   "source": [
    "# cur.execute('SELECT id,url FROM cnynes WHERE pic is null')\n",
    "# for id,url in cur.fetchall():\n",
    "# #     print(id,url)\n",
    "#     r = requests.get(url)\n",
    "#     r.encoding = \"utf-8\"\n",
    "#     soup = BeautifulSoup(r.content,\"lxml\")\n",
    "#     pic = soup.find(\"article\").find('img')\n",
    "#     if pic is None:\n",
    "#         pic = None\n",
    "#     else:\n",
    "#         pic = pic.attrs['src']\n",
    "#         print(pic)\n",
    "#         cur.execute(\"UPDATE cnynes SET pic = ? WHERE id = ?\",(pic,id)) \n",
    "#         conn.commit()   \n",
    "# #     break"
   ]
  },
  {
   "cell_type": "code",
   "execution_count": null,
   "metadata": {},
   "outputs": [],
   "source": [
    "from bs4 import BeautifulSoup as soup\n",
    "\n",
    "news_text = soup.find(\"article\")\n",
    "# if news_text is None:\n",
    "#     news_text = None\n",
    "# else:\n",
    "#     news_text = news_text.attrs['src']\n",
    "# print(news_text)"
   ]
  },
  {
   "cell_type": "code",
   "execution_count": null,
   "metadata": {
    "collapsed": true
   },
   "outputs": [],
   "source": [
    ".find('img')"
   ]
  },
  {
   "cell_type": "code",
   "execution_count": null,
   "metadata": {
    "collapsed": true
   },
   "outputs": [],
   "source": []
  },
  {
   "cell_type": "code",
   "execution_count": null,
   "metadata": {
    "collapsed": true
   },
   "outputs": [],
   "source": []
  }
 ],
 "metadata": {
  "kernelspec": {
   "display_name": "Python 3",
   "language": "python",
   "name": "python3"
  },
  "language_info": {
   "codemirror_mode": {
    "name": "ipython",
    "version": 3
   },
   "file_extension": ".py",
   "mimetype": "text/x-python",
   "name": "python",
   "nbconvert_exporter": "python",
   "pygments_lexer": "ipython3",
   "version": "3.6.3"
  },
  "varInspector": {
   "cols": {
    "lenName": 16,
    "lenType": 16,
    "lenVar": 40
   },
   "kernels_config": {
    "python": {
     "delete_cmd_postfix": "",
     "delete_cmd_prefix": "del ",
     "library": "var_list.py",
     "varRefreshCmd": "print(var_dic_list())"
    },
    "r": {
     "delete_cmd_postfix": ") ",
     "delete_cmd_prefix": "rm(",
     "library": "var_list.r",
     "varRefreshCmd": "cat(var_dic_list()) "
    }
   },
   "types_to_exclude": [
    "module",
    "function",
    "builtin_function_or_method",
    "instance",
    "_Feature"
   ],
   "window_display": false
  }
 },
 "nbformat": 4,
 "nbformat_minor": 2
}
